{
 "cells": [
  {
   "cell_type": "markdown",
   "metadata": {
    "id": "SPeulvp-meob"
   },
   "source": [
    "**ASSIGNMENT 1 - EMPIRICAL STUDY OF KNAPSACK PROBLEM**"
   ]
  },
  {
   "cell_type": "markdown",
   "metadata": {
    "id": "f2Eeke4Z_EkW"
   },
   "source": [
    "**1. Group Description**\n",
    "\n",
    "Group Number: 8\n",
    "\n",
    "Member Names: Ho Joon (Justin) Chun, Jia Xuan Song\n",
    "\n",
    "Member Student Numbers: 300131838, 300027155"
   ]
  },
  {
   "cell_type": "markdown",
   "metadata": {
    "id": "Yq6OGiMX_da0"
   },
   "source": [
    "**2. Knapsack Problem**\n",
    "\n",
    "A decision-making challenge where there is a limited capacity along with set of items with costs and weights to it. The objective of this problem is to determine the best combination of items to maximize the cost, while not exceeding the limited capacity. The goal is to produce the most optimal and efficient algorithm to solve this problem."
   ]
  },
  {
   "cell_type": "markdown",
   "metadata": {
    "id": "C8vwHE0G_iOG"
   },
   "source": [
    "**3. Dataset**\n",
    "\n",
    "Give a description of the dataset used with references.  "
   ]
  },
  {
   "cell_type": "markdown",
   "metadata": {
    "id": "OZTWy1qN2BzY"
   },
   "source": [
    "**Import important libraries**"
   ]
  },
  {
   "cell_type": "code",
   "execution_count": null,
   "metadata": {
    "id": "GmP1buROhaOx"
   },
   "outputs": [],
   "source": [
    "import pandas as pd\n",
    "import itertools\n",
    "import numpy as np"
   ]
  },
  {
   "cell_type": "markdown",
   "metadata": {
    "id": "wNJyoeCz00Kr"
   },
   "source": [
    "**Read Dataset**\n",
    "\n",
    "As outlined in the project description, it should be possible for the correctors to execute your notebook without requiring any downloads.\n",
    "\n",
    "To facilitate access to the dataset without the need for downloads, you can upload it to a public GitHub repository and provide a link to the raw version of the dataset.\n",
    "\n",
    "The link to the raw version is as follows:\n",
    "*https://raw.githubusercontent.com/GITHUB_USERNAME/REPOSITORY_NAME/main/DATASETNAME.csv*\n",
    "\n",
    "For example:\n",
    "\n",
    "https://raw.githubusercontent.com/baharin/KnapsackProblem/main/knapsack_5_items.csv\n",
    "\n",
    "Now provide the link to YOUR dataset and read the dataset using pandas:"
   ]
  },
  {
   "cell_type": "code",
   "execution_count": null,
   "metadata": {
    "id": "BrhpM-HwhaOy"
   },
   "outputs": [],
   "source": [
    "url = "https://raw.githubusercontent.com/jsong060/csi4106asg1/main/knapsack_5_items.csv"",
    "\n",
    "dataset = pd.read_csv(url)"
   ]
  },
  {
   "cell_type": "markdown",
   "metadata": {
    "id": "4Drc71BY2a7w"
   },
   "source": [
    "Let's see what are the columns of the dataset? :"
   ]
  },
  {
   "cell_type": "code",
   "execution_count": null,
   "metadata": {
    "colab": {
     "base_uri": "https://localhost:8080/"
    },
    "id": "pGxZXmhNhaOz",
    "outputId": "09bb8058-957c-4aae-fe50-de83e5a3b424"
   },
   "outputs": [
    {
     "data": {
      "text/plain": [
       "Index(['Weights', 'Prices', 'Capacity', 'Best picks', 'Best price'], dtype='object')"
      ]
     },
     "execution_count": 3,
     "metadata": {},
     "output_type": "execute_result"
    }
   ],
   "source": [
    "dataset.columns"
   ]
  },
  {
   "cell_type": "markdown",
   "metadata": {
    "id": "aNZaqcCT2w-T"
   },
   "source": [
    "As we expected, we have columns for weights, costs, capacity, best picks and best price for all the instances."
   ]
  },
  {
   "cell_type": "markdown",
   "metadata": {
    "id": "jkokOHRj2kgZ"
   },
   "source": [
    "Now let's see the first 10 entries (rows):"
   ]
  },
  {
   "cell_type": "code",
   "execution_count": null,
   "metadata": {
    "colab": {
     "base_uri": "https://localhost:8080/",
     "height": 363
    },
    "id": "0xqfPrBEhaOz",
    "outputId": "4376de03-1214-492f-ba5e-304f9f0f1129"
   },
   "outputs": [
    {
     "data": {
      "text/html": [
       "\n",
       "  <div id=\"df-5f558ea6-4b33-40c0-bd15-56ad5b037b87\" class=\"colab-df-container\">\n",
       "    <div>\n",
       "<style scoped>\n",
       "    .dataframe tbody tr th:only-of-type {\n",
       "        vertical-align: middle;\n",
       "    }\n",
       "\n",
       "    .dataframe tbody tr th {\n",
       "        vertical-align: top;\n",
       "    }\n",
       "\n",
       "    .dataframe thead th {\n",
       "        text-align: right;\n",
       "    }\n",
       "</style>\n",
       "<table border=\"1\" class=\"dataframe\">\n",
       "  <thead>\n",
       "    <tr style=\"text-align: right;\">\n",
       "      <th></th>\n",
       "      <th>Weights</th>\n",
       "      <th>Prices</th>\n",
       "      <th>Capacity</th>\n",
       "      <th>Best picks</th>\n",
       "      <th>Best price</th>\n",
       "    </tr>\n",
       "  </thead>\n",
       "  <tbody>\n",
       "    <tr>\n",
       "      <th>0</th>\n",
       "      <td>[46 40 42 38 10]</td>\n",
       "      <td>[12 19 19 15  8]</td>\n",
       "      <td>40</td>\n",
       "      <td>[0. 1. 0. 0. 0.]</td>\n",
       "      <td>19.0</td>\n",
       "    </tr>\n",
       "    <tr>\n",
       "      <th>1</th>\n",
       "      <td>[11 31  4  6  7]</td>\n",
       "      <td>[ 2  8 18 16  3]</td>\n",
       "      <td>64</td>\n",
       "      <td>[1. 1. 1. 1. 1.]</td>\n",
       "      <td>47.0</td>\n",
       "    </tr>\n",
       "    <tr>\n",
       "      <th>2</th>\n",
       "      <td>[32 49 27 37 24]</td>\n",
       "      <td>[19 16 16  4  1]</td>\n",
       "      <td>87</td>\n",
       "      <td>[1. 0. 1. 0. 1.]</td>\n",
       "      <td>36.0</td>\n",
       "    </tr>\n",
       "    <tr>\n",
       "      <th>3</th>\n",
       "      <td>[20 35 22 23 16]</td>\n",
       "      <td>[19 17 19  9  1]</td>\n",
       "      <td>21</td>\n",
       "      <td>[1. 0. 0. 0. 0.]</td>\n",
       "      <td>19.0</td>\n",
       "    </tr>\n",
       "    <tr>\n",
       "      <th>4</th>\n",
       "      <td>[ 7 12 19 13 20]</td>\n",
       "      <td>[10 11 18 15  5]</td>\n",
       "      <td>50</td>\n",
       "      <td>[0. 1. 1. 1. 0.]</td>\n",
       "      <td>44.0</td>\n",
       "    </tr>\n",
       "    <tr>\n",
       "      <th>5</th>\n",
       "      <td>[27 10 25 25  7]</td>\n",
       "      <td>[13 19  7 16  3]</td>\n",
       "      <td>66</td>\n",
       "      <td>[1. 1. 0. 1. 0.]</td>\n",
       "      <td>48.0</td>\n",
       "    </tr>\n",
       "    <tr>\n",
       "      <th>6</th>\n",
       "      <td>[21  2 33 45 26]</td>\n",
       "      <td>[ 1 14 10  6 13]</td>\n",
       "      <td>80</td>\n",
       "      <td>[0. 1. 1. 0. 1.]</td>\n",
       "      <td>37.0</td>\n",
       "    </tr>\n",
       "    <tr>\n",
       "      <th>7</th>\n",
       "      <td>[37 27 39 14 25]</td>\n",
       "      <td>[18  7 15  4 13]</td>\n",
       "      <td>35</td>\n",
       "      <td>[0. 0. 0. 0. 1.]</td>\n",
       "      <td>13.0</td>\n",
       "    </tr>\n",
       "    <tr>\n",
       "      <th>8</th>\n",
       "      <td>[ 1 48  4 23 39]</td>\n",
       "      <td>[ 9  4 10 16 12]</td>\n",
       "      <td>51</td>\n",
       "      <td>[1. 0. 1. 1. 0.]</td>\n",
       "      <td>35.0</td>\n",
       "    </tr>\n",
       "    <tr>\n",
       "      <th>9</th>\n",
       "      <td>[ 4  3 22  9 32]</td>\n",
       "      <td>[14  6  3 17  8]</td>\n",
       "      <td>53</td>\n",
       "      <td>[1. 1. 0. 1. 1.]</td>\n",
       "      <td>45.0</td>\n",
       "    </tr>\n",
       "  </tbody>\n",
       "</table>\n",
       "</div>\n",
       "    <div class=\"colab-df-buttons\">\n",
       "\n",
       "  <div class=\"colab-df-container\">\n",
       "    <button class=\"colab-df-convert\" onclick=\"convertToInteractive('df-5f558ea6-4b33-40c0-bd15-56ad5b037b87')\"\n",
       "            title=\"Convert this dataframe to an interactive table.\"\n",
       "            style=\"display:none;\">\n",
       "\n",
       "  <svg xmlns=\"http://www.w3.org/2000/svg\" height=\"24px\" viewBox=\"0 -960 960 960\">\n",
       "    <path d=\"M120-120v-720h720v720H120Zm60-500h600v-160H180v160Zm220 220h160v-160H400v160Zm0 220h160v-160H400v160ZM180-400h160v-160H180v160Zm440 0h160v-160H620v160ZM180-180h160v-160H180v160Zm440 0h160v-160H620v160Z\"/>\n",
       "  </svg>\n",
       "    </button>\n",
       "\n",
       "  <style>\n",
       "    .colab-df-container {\n",
       "      display:flex;\n",
       "      gap: 12px;\n",
       "    }\n",
       "\n",
       "    .colab-df-convert {\n",
       "      background-color: #E8F0FE;\n",
       "      border: none;\n",
       "      border-radius: 50%;\n",
       "      cursor: pointer;\n",
       "      display: none;\n",
       "      fill: #1967D2;\n",
       "      height: 32px;\n",
       "      padding: 0 0 0 0;\n",
       "      width: 32px;\n",
       "    }\n",
       "\n",
       "    .colab-df-convert:hover {\n",
       "      background-color: #E2EBFA;\n",
       "      box-shadow: 0px 1px 2px rgba(60, 64, 67, 0.3), 0px 1px 3px 1px rgba(60, 64, 67, 0.15);\n",
       "      fill: #174EA6;\n",
       "    }\n",
       "\n",
       "    .colab-df-buttons div {\n",
       "      margin-bottom: 4px;\n",
       "    }\n",
       "\n",
       "    [theme=dark] .colab-df-convert {\n",
       "      background-color: #3B4455;\n",
       "      fill: #D2E3FC;\n",
       "    }\n",
       "\n",
       "    [theme=dark] .colab-df-convert:hover {\n",
       "      background-color: #434B5C;\n",
       "      box-shadow: 0px 1px 3px 1px rgba(0, 0, 0, 0.15);\n",
       "      filter: drop-shadow(0px 1px 2px rgba(0, 0, 0, 0.3));\n",
       "      fill: #FFFFFF;\n",
       "    }\n",
       "  </style>\n",
       "\n",
       "    <script>\n",
       "      const buttonEl =\n",
       "        document.querySelector('#df-5f558ea6-4b33-40c0-bd15-56ad5b037b87 button.colab-df-convert');\n",
       "      buttonEl.style.display =\n",
       "        google.colab.kernel.accessAllowed ? 'block' : 'none';\n",
       "\n",
       "      async function convertToInteractive(key) {\n",
       "        const element = document.querySelector('#df-5f558ea6-4b33-40c0-bd15-56ad5b037b87');\n",
       "        const dataTable =\n",
       "          await google.colab.kernel.invokeFunction('convertToInteractive',\n",
       "                                                    [key], {});\n",
       "        if (!dataTable) return;\n",
       "\n",
       "        const docLinkHtml = 'Like what you see? Visit the ' +\n",
       "          '<a target=\"_blank\" href=https://colab.research.google.com/notebooks/data_table.ipynb>data table notebook</a>'\n",
       "          + ' to learn more about interactive tables.';\n",
       "        element.innerHTML = '';\n",
       "        dataTable['output_type'] = 'display_data';\n",
       "        await google.colab.output.renderOutput(dataTable, element);\n",
       "        const docLink = document.createElement('div');\n",
       "        docLink.innerHTML = docLinkHtml;\n",
       "        element.appendChild(docLink);\n",
       "      }\n",
       "    </script>\n",
       "  </div>\n",
       "\n",
       "\n",
       "<div id=\"df-ff3b3e9e-88c1-4ed5-89c8-fec0e68e5aa3\">\n",
       "  <button class=\"colab-df-quickchart\" onclick=\"quickchart('df-ff3b3e9e-88c1-4ed5-89c8-fec0e68e5aa3')\"\n",
       "            title=\"Suggest charts.\"\n",
       "            style=\"display:none;\">\n",
       "\n",
       "<svg xmlns=\"http://www.w3.org/2000/svg\" height=\"24px\"viewBox=\"0 0 24 24\"\n",
       "     width=\"24px\">\n",
       "    <g>\n",
       "        <path d=\"M19 3H5c-1.1 0-2 .9-2 2v14c0 1.1.9 2 2 2h14c1.1 0 2-.9 2-2V5c0-1.1-.9-2-2-2zM9 17H7v-7h2v7zm4 0h-2V7h2v10zm4 0h-2v-4h2v4z\"/>\n",
       "    </g>\n",
       "</svg>\n",
       "  </button>\n",
       "\n",
       "<style>\n",
       "  .colab-df-quickchart {\n",
       "      --bg-color: #E8F0FE;\n",
       "      --fill-color: #1967D2;\n",
       "      --hover-bg-color: #E2EBFA;\n",
       "      --hover-fill-color: #174EA6;\n",
       "      --disabled-fill-color: #AAA;\n",
       "      --disabled-bg-color: #DDD;\n",
       "  }\n",
       "\n",
       "  [theme=dark] .colab-df-quickchart {\n",
       "      --bg-color: #3B4455;\n",
       "      --fill-color: #D2E3FC;\n",
       "      --hover-bg-color: #434B5C;\n",
       "      --hover-fill-color: #FFFFFF;\n",
       "      --disabled-bg-color: #3B4455;\n",
       "      --disabled-fill-color: #666;\n",
       "  }\n",
       "\n",
       "  .colab-df-quickchart {\n",
       "    background-color: var(--bg-color);\n",
       "    border: none;\n",
       "    border-radius: 50%;\n",
       "    cursor: pointer;\n",
       "    display: none;\n",
       "    fill: var(--fill-color);\n",
       "    height: 32px;\n",
       "    padding: 0;\n",
       "    width: 32px;\n",
       "  }\n",
       "\n",
       "  .colab-df-quickchart:hover {\n",
       "    background-color: var(--hover-bg-color);\n",
       "    box-shadow: 0 1px 2px rgba(60, 64, 67, 0.3), 0 1px 3px 1px rgba(60, 64, 67, 0.15);\n",
       "    fill: var(--button-hover-fill-color);\n",
       "  }\n",
       "\n",
       "  .colab-df-quickchart-complete:disabled,\n",
       "  .colab-df-quickchart-complete:disabled:hover {\n",
       "    background-color: var(--disabled-bg-color);\n",
       "    fill: var(--disabled-fill-color);\n",
       "    box-shadow: none;\n",
       "  }\n",
       "\n",
       "  .colab-df-spinner {\n",
       "    border: 2px solid var(--fill-color);\n",
       "    border-color: transparent;\n",
       "    border-bottom-color: var(--fill-color);\n",
       "    animation:\n",
       "      spin 1s steps(1) infinite;\n",
       "  }\n",
       "\n",
       "  @keyframes spin {\n",
       "    0% {\n",
       "      border-color: transparent;\n",
       "      border-bottom-color: var(--fill-color);\n",
       "      border-left-color: var(--fill-color);\n",
       "    }\n",
       "    20% {\n",
       "      border-color: transparent;\n",
       "      border-left-color: var(--fill-color);\n",
       "      border-top-color: var(--fill-color);\n",
       "    }\n",
       "    30% {\n",
       "      border-color: transparent;\n",
       "      border-left-color: var(--fill-color);\n",
       "      border-top-color: var(--fill-color);\n",
       "      border-right-color: var(--fill-color);\n",
       "    }\n",
       "    40% {\n",
       "      border-color: transparent;\n",
       "      border-right-color: var(--fill-color);\n",
       "      border-top-color: var(--fill-color);\n",
       "    }\n",
       "    60% {\n",
       "      border-color: transparent;\n",
       "      border-right-color: var(--fill-color);\n",
       "    }\n",
       "    80% {\n",
       "      border-color: transparent;\n",
       "      border-right-color: var(--fill-color);\n",
       "      border-bottom-color: var(--fill-color);\n",
       "    }\n",
       "    90% {\n",
       "      border-color: transparent;\n",
       "      border-bottom-color: var(--fill-color);\n",
       "    }\n",
       "  }\n",
       "</style>\n",
       "\n",
       "  <script>\n",
       "    async function quickchart(key) {\n",
       "      const quickchartButtonEl =\n",
       "        document.querySelector('#' + key + ' button');\n",
       "      quickchartButtonEl.disabled = true;  // To prevent multiple clicks.\n",
       "      quickchartButtonEl.classList.add('colab-df-spinner');\n",
       "      try {\n",
       "        const charts = await google.colab.kernel.invokeFunction(\n",
       "            'suggestCharts', [key], {});\n",
       "      } catch (error) {\n",
       "        console.error('Error during call to suggestCharts:', error);\n",
       "      }\n",
       "      quickchartButtonEl.classList.remove('colab-df-spinner');\n",
       "      quickchartButtonEl.classList.add('colab-df-quickchart-complete');\n",
       "    }\n",
       "    (() => {\n",
       "      let quickchartButtonEl =\n",
       "        document.querySelector('#df-ff3b3e9e-88c1-4ed5-89c8-fec0e68e5aa3 button');\n",
       "      quickchartButtonEl.style.display =\n",
       "        google.colab.kernel.accessAllowed ? 'block' : 'none';\n",
       "    })();\n",
       "  </script>\n",
       "</div>\n",
       "    </div>\n",
       "  </div>\n"
      ],
      "text/plain": [
       "            Weights            Prices  Capacity        Best picks  Best price\n",
       "0  [46 40 42 38 10]  [12 19 19 15  8]        40  [0. 1. 0. 0. 0.]        19.0\n",
       "1  [11 31  4  6  7]  [ 2  8 18 16  3]        64  [1. 1. 1. 1. 1.]        47.0\n",
       "2  [32 49 27 37 24]  [19 16 16  4  1]        87  [1. 0. 1. 0. 1.]        36.0\n",
       "3  [20 35 22 23 16]  [19 17 19  9  1]        21  [1. 0. 0. 0. 0.]        19.0\n",
       "4  [ 7 12 19 13 20]  [10 11 18 15  5]        50  [0. 1. 1. 1. 0.]        44.0\n",
       "5  [27 10 25 25  7]  [13 19  7 16  3]        66  [1. 1. 0. 1. 0.]        48.0\n",
       "6  [21  2 33 45 26]  [ 1 14 10  6 13]        80  [0. 1. 1. 0. 1.]        37.0\n",
       "7  [37 27 39 14 25]  [18  7 15  4 13]        35  [0. 0. 0. 0. 1.]        13.0\n",
       "8  [ 1 48  4 23 39]  [ 9  4 10 16 12]        51  [1. 0. 1. 1. 0.]        35.0\n",
       "9  [ 4  3 22  9 32]  [14  6  3 17  8]        53  [1. 1. 0. 1. 1.]        45.0"
      ]
     },
     "execution_count": 4,
     "metadata": {},
     "output_type": "execute_result"
    }
   ],
   "source": [
    "dataset.head(10)"
   ]
  },
  {
   "cell_type": "markdown",
   "metadata": {
    "id": "1dq9VpZh2r2A"
   },
   "source": [
    "**Preprocessing Step**\n",
    "\n",
    "Typically, the initial step in any project that involves reading and handling data is data preprocessing and cleansing.\n",
    "\n",
    "In our dataset, we expect the entries in the \"Weights,\" \"Prices,\" and \"Best Picks\" columns to be in the form of arrays of floats or integers, like this: [45, 40, 42, 38, 10]\n",
    "\n",
    "However, when you read each entry using pandas, they will be in a form of a string: \"[45 40 42 38 10]\"\n",
    "\n",
    "So we need to convert these strings into \"arrays of floats or integers.\" You can utilize the function provided below for this purpose:\n"
   ]
  },
  {
   "cell_type": "code",
   "execution_count": null,
   "metadata": {
    "id": "BmUtgrBchaOz"
   },
   "outputs": [],
   "source": [
    "def string_to_list(string):\n",
    "\n",
    "  string_list = string.strip('[]').split()\n",
    "\n",
    "  float_list = [float(element) for element in string_list]\n",
    "\n",
    "  return float_list"
   ]
  },
  {
   "cell_type": "markdown",
   "metadata": {
    "id": "CP1nkMb27A4n"
   },
   "source": [
    "Furthermore, it's possible that certain rows in the dataset contain empty values in specific columns. We also aim to eliminate these rows as they do not provide any useful information. We use dropna() function to do so:"
   ]
  },
  {
   "cell_type": "code",
   "execution_count": null,
   "metadata": {
    "id": "LT_iYgxhhaO0"
   },
   "outputs": [],
   "source": [
    "#Ignore the warning messages.\n",
    "\n",
    "dataset = dataset.dropna()\n",
    "\n",
    "dataset.Weights = dataset.Weights.apply(lambda x : string_to_list(x))\n",
    "dataset.Prices = dataset.Prices.apply(lambda x : string_to_list(x))\n",
    "dataset['Best picks'] = dataset['Best picks'].apply(lambda x : string_to_list(x))"
   ]
  },
  {
   "cell_type": "markdown",
   "metadata": {
    "id": "61go4NeA7gZU"
   },
   "source": [
    "Now it's time to implement the search algorithms. For each algorithm, a template is provided to you. You can modify this template if you want. But first you should try to go look at all the parameters used, as they are all important. You can also define any number of auxiliary functions you want.\n"
   ]
  },
  {
   "cell_type": "markdown",
   "metadata": {
    "id": "0ER3-7di7ufy"
   },
   "source": [
    "**4. Generate and Test**\n",
    "\n",
    "This method first generates all possible combinations of arrays with size 5 of 0 and 1. The total weight and value of each combination are computed by aligning and multiplying with the dataset's weights and values. If the weight of the combination is under the capacity and its value is the highest out of all combinations, it is updated as the most optimal solution."
   ]
  },
  {
   "cell_type": "code",
   "execution_count": null,
   "metadata": {
    "id": "FqN5dVe7haO0"
   },
   "outputs": [],
   "source": [
    "#generate a whole array of all possible combinations of arrays with 5 capacity with values of 0 and 1\n",
    "\n",
    "# Define the array and its size\n",
    "array_size = 5\n",
    "array = [0, 1]\n",
    "\n",
    "# Generate all possible combinations\n",
    "combinations = list(itertools.product(array, repeat=array_size))"
   ]
  },
  {
   "cell_type": "code",
   "execution_count": null,
   "metadata": {
    "id": "xQyI_WRShaO0"
   },
   "outputs": [],
   "source": [
    "def gen_and_test(data):\n",
    "\n",
    "  #base case if nothing satisfies the constraints, then the price will be 0 and the solution will be to take no items\n",
    "  best_solution_price = 0\n",
    "  best_solution = [0,0,0,0,0]\n",
    "\n",
    "  for combo in combinations:\n",
    "    #find total weight of the combination and total price\n",
    "    combo_w = sum([a * b for a, b in zip(combo, data.Weights)])\n",
    "    combo_p = sum([a * b for a, b in zip(combo, data.Prices)])\n",
    "\n",
    "    #if the weight is less than the capacity and the price is better than the previous best, we update both the solution and price\n",
    "    if combo_w <= data.Capacity and best_solution_price < combo_p:\n",
    "       best_solution_price = combo_p\n",
    "       best_solution = combo\n",
    "\n",
    "  return best_solution_price, best_solution"
   ]
  },
  {
   "cell_type": "markdown",
   "metadata": {
    "id": "sgYGIJMd-atd"
   },
   "source": [
    "**Your Analysis:**\n",
    "\n",
    "This method is ensuring to find the best solution for the Knapsack problem. But at the same time, its time complexity might make it more difficult to process for bigger datasets. As for each $N$ items in Knapsack problem, there exists $2^{N}$ possible combinations. The algorithm then calculates iterates $N$ items for each combination, making the time complexity of this algorithm to be $O(N\\times 2^{N})$."
   ]
  },
  {
   "cell_type": "markdown",
   "metadata": {
    "id": "XGBWQqlK-lra"
   },
   "source": [
    "------------------------------------------------------------------------------------------------"
   ]
  },
  {
   "cell_type": "markdown",
   "metadata": {
    "id": "z8_ipXOGhaO1"
   },
   "source": [
    "**5. Greedy Search**\n",
    "\n",
    "This approach solves the Knapsack problem by selecting the item with the highest price that can fit with the remaining current capacity during each iteration. It is started with no items selected until it selects all 5 or until the capacity is reached or exceeded. Each iteration, the function identifies the item with the maximum price from the remaining unselected items, adds its weight to the current total, and updates the solution."
   ]
  },
  {
   "cell_type": "code",
   "execution_count": null,
   "metadata": {
    "id": "bAfwGLDkhaO2"
   },
   "outputs": [],
   "source": [
    "def greedy(data):\n",
    "  best_solution_price, best_solution = 0, [0,0,0,0,0]\n",
    "  cnt, curr_w, copy_of_price = 0, 0, data.Prices"
   ]
  },
  {
   "cell_type": "code",
   "execution_count": null,
   "metadata": {
    "id": "QeS54aqAhwhU"
   },
   "outputs": [],
   "source": [
    "  while cnt < 5 and curr_w <= data.Capacity:\n",
    "    for i in range(len(data.Prices)):\n",
    "      if curr_w + data.Weights[i]<= data.Capacity:\n",
    "        item, item_pos = max(copy_of_price), data.Prices.index(max(copy_of_price))\n",
    "        copy_of_price.remove(item)\n",
    "        curr_w = curr_w + data.Weights[item_pos]\n",
    "        best_solution[item_pos] = 1\n",
    "        best_solution_price = best_solution_price + item\n",
    "    cnt = cnt + 1"
   ]
  },
  {
   "cell_type": "code",
   "execution_count": null,
   "metadata": {
    "id": "xWqCDMs-h0SX"
   },
   "outputs": [],
   "source": [
    "  return best_solution_price, best_solution"
   ]
  },
  {
   "cell_type": "markdown",
   "metadata": {
    "id": "0DKep6e5-nuz"
   },
   "source": [
    "**Your Analysis:**\n",
    "\n",
    "Because of the max function and the nested look that is being used for this algorithm, the time complexity of this algorithm is $O(N^{N})$. My analysis on this algorithm is that it might not guarantee the most optimal solution. Through the iterations, it might not leave space for potential best priced combination of small weighted items due to filling up with high-priced items first. This is hard to avoid, since once the item is chosen, it cannot be modified while being iterated."
   ]
  },
  {
   "cell_type": "markdown",
   "metadata": {
    "id": "XGBWQqlK-lra"
   },
   "source": [
    "------------------------------------------------------------------------------------------------"
   ]
  },
  {
   "cell_type": "markdown",
   "metadata": {
    "id": "PtDW2ja3R93S"
   },
   "source": [
    "**6. Simulated Annealing**\n",
    "\n",
    "This method first generates a random solution while making sure that it doesn't exceed the capacity. Afterwards, it iterates through potential neighboring solutions, in order to choose whether to change to the neighboring solution or not. The criteria for changing the solution is when neighboring solution has higher price or when it meets the annealing criteria, which is when the probability of accepting new solution is decreasing as the temperature decreases. The temperature of this algorithm is reduced per iterations with the given cooling rate, which makes the algorithm to be more selective with its solutions. It initially starts off wide, but then narrows down for choosing optimal solution for the problem."
   ]
  },
  {
   "cell_type": "code",
   "execution_count": null,
   "metadata": {
    "id": "7rFhuXedSF_3"
   },
   "outputs": [],
   "source": [
    "import random\n",
    "import math\n",
    "\n",
    "def simulated_annealing(data, initial_temperature, cooling_rate, N):\n",
    "    # Additional function to calculate the total weight and price of a solution\n",
    "    def calculateSolution(solution):\n",
    "        total_weight = sum([a * b for a, b in zip(solution, data.Weights)])\n",
    "        total_price = sum([a * b for a, b in zip(solution, data.Prices)])\n",
    "        return total_weight, total_price\n",
    "\n",
    "    # Additional function to generate a neighboring solution\n",
    "    def get_neighbor(solution):\n",
    "        neighbor = solution.copy()\n",
    "        index = random.randint(0, len(solution) - 1)\n",
    "        neighbor[index] = 1 - neighbor[index] \n",
    "        return neighbor"
   ]
  },
  {
   "cell_type": "code",
   "execution_count": null,
   "metadata": {
    "id": "mAWQLNsESNIZ"
   },
   "outputs": [],
   "source": [
    "    # Starting by generating a random solution\n",
    "    current_solution = [random.randint(0, 1) for _ in range(5)]\n",
    "    current_weight, current_price = calculateSolution(current_solution)\n",
    "\n",
    "    # To make sure the first solution is not exceeding capacity\n",
    "    while current_weight > data.Capacity:\n",
    "        current_solution = [random.randint(0, 1) for _ in range(5)]\n",
    "        current_weight, current_price = calculateSolution(current_solution)\n",
    "\n",
    "    best_solution = current_solution\n",
    "    best_price = current_price\n",
    "\n",
    "    temperature = initial_temperature\n",
    "\n",
    "    for _ in range(N):\n",
    "        neighbor = get_neighbor(current_solution)\n",
    "        neighbor_weight, neighbor_price = calculateSolution(neighbor)\n",
    "\n",
    "        # If the neighboring solution is better or the annealing condition is met\n",
    "        if (neighbor_weight <= data.Capacity and\n",
    "            (neighbor_price > current_price or\n",
    "             random.uniform(0, 1) < math.exp((neighbor_price - current_price) / temperature))):\n",
    "            current_solution, current_price = neighbor, neighbor_price\n",
    "\n",
    "        # Update the best solution found so far\n",
    "        if current_price > best_price:\n",
    "            best_solution, best_price = current_solution, current_price\n",
    "\n",
    "        # Decreasing the temperature\n",
    "        temperature *= cooling_rate"
   ]
  },
  {
   "cell_type": "code",
   "execution_count": null,
   "metadata": {
    "id": "jUdWEABkhkih"
   },
   "outputs": [],
   "source": [
    "    return best_price, best_solution"
   ]
  },
  {
   "cell_type": "markdown",
   "metadata": {
    "id": "PvvpYOOr-qqr"
   },
   "source": [
    "**Your Analysis:**\n",
    "\n",
    "The time complexity of this algorithm is primarily influenced by the number of iterations, $N$ making it $O(N)$. However, the quality of the solution and the time taken to converge to a good solution depend on the initial temperature, cooling rate, and the specific problem instance. While Simulated Annealing does not guarantee an optimal solution, it often provides a good approximation, especially for complex optimization problems where the solution space is vast and rugged."
   ]
  },
  {
   "cell_type": "markdown",
   "metadata": {
    "id": "n0QXt7Ys-rCc"
   },
   "source": [
    "------------------------------------------------------------------------------------------------"
   ]
  },
  {
   "cell_type": "markdown",
   "metadata": {
    "id": "RHYjBUvVhtGV"
   },
   "source": [
    "**7. Genetic Algorithm**\n",
    "\n",
    "The genetic algorithm explores the solution space with random set of initial population and selects a few fitest candidate from the population to form the next set of population. This algorithm mimicks the passing of genetic information in the natural world, it evolves a population of candidate solutions over multiple generations to find an optimal or near-optimal solution. If we alter the crossover rate and mutation rate, the result will be different; if crossover rate increases, the chances of finding the optimal solution also increases as it explores a different area in the solution space, and a potentially better one; same effect with mutation for same reason."
   ]
  },
  {
   "cell_type": "code",
   "execution_count": null,
   "metadata": {
    "id": "5kGKKUN8iP30"
   },
   "outputs": [],
   "source": [
    "import random\n",
    "\n",
    "def calculate_fitness(ind, prices, weights, capacity):   #fitness in this problem is the total price in the knapsack\n",
    "  total_p = sum(a*b for a, b in zip(ind, prices))\n",
    "  total_w = sum(a*b for a, b in zip(ind, weights))\n",
    "  \n",
    "  if capacity >= total_w:         #if the weight is within limit\n",
    "    fitness = total_p\n",
    "  else:                           #else disregard the option\n",
    "    fitness = -1\n",
    "\n",
    "  return fitness\n",
    "\n",
    "def crossover(parent1, parent2, cross_rate):        #one-point crossover\n",
    "  cutoff = random.randint(0, 4)                     #select random cutoff point\n",
    "  child1 = parent1[:cutoff] + parent2[cutoff:]     #produce children with results from both parents\n",
    "  child2 = parent1[cutoff:] + parent2[:cutoff]\n",
    "\n",
    "  return child1, child2\n",
    "\n",
    "def mutation(child, mut_rate):\n",
    "  r = random.random()         #random number between 0 to 1\n",
    "  if random.random() <= mut_rate:   #if the random number is smaller than the mutation rate\n",
    "    randomize(child)                #randomize child \n",
    "  return child\n",
    "\n",
    "def generate_combination():\n",
    "  return [random.randint(0, 1) for _ in range(5)]"
   ]
  },
  {
   "cell_type": "code",
   "execution_count": null,
   "metadata": {
    "id": "5b4hBtUijZzg"
   },
   "outputs": [],
   "source": [
    "def genetic_algorithm(data, population_size, num_generations, mut_rate, cross_rate, tournament_size):\n",
    "#generate 50 potential solution\n",
    "#select 5 from the 50 and put them in tournament, generate 5 new child from 5 parents with mutation and crossover\n",
    "  population = [generate_combination() for _ in range(population_size)]\n",
    "\n",
    "  for gen in range(num_generations):\n",
    "    fitness_value = [calculate_fitness(potential_soln, data.Prices, data.Weights, data.Capacity) for potential_soln in population]\n",
    "\n",
    "    # Selection: Choose parents for crossover\n",
    "    mating_pool = []\n",
    "    for _ in range(population_size):\n",
    "        tournament_indices = random.sample(range(population_size), tournament_size)       #choose 5 random potential solutions index from population\n",
    "        selected_parent = max(tournament_indices, key=lambda i: fitness_value[i])         #choose best potential solution from the the 5 random solutions\n",
    "        mating_pool.append(population[selected_parent])\n",
    "\n",
    "    # children creation with random parent selection\n",
    "    children = []\n",
    "    while len(children) < population_size:\n",
    "        parent1, parent2 = random.sample(mating_pool, 2)\n",
    "        # One-point crossover: Split parents at a random point and exchange tails\n",
    "        child1, child2 = crossover(parent1, parent2, cross_rate)\n",
    "        children.extend([child1, child2])\n",
    "\n",
    "    # Mutation to children with set mutation rate\n",
    "    for child in children:\n",
    "      mutation(child, mut_rate)\n",
    "\n",
    "    # Replace population for next iteration with the children\n",
    "    population = children\n",
    "  \n",
    "  solution_fitness = [calculate_fitness(potential_soln, data.Prices, data.Weights, data.Capacity) for potential_soln in population]     #find all fitness of potential solution\n",
    "  best_solution_price = max(solution_fitness)                                                                                           #best solution is the one with the best fitness/prices\n",
    "  best_solution = solution_fitness.index(best_solution_price)  "
   ]
  },
  {
   "cell_type": "code",
   "execution_count": null,
   "metadata": {
    "id": "hJ3ceIHSs-W-"
   },
   "outputs": [],
   "source": [
    "  return best_solution_price, best_solution"
   ]
  },
  {
   "cell_type": "markdown",
   "metadata": {
    "id": "ekb0LOgF-xUN"
   },
   "source": [
    "------------------------------------------------------------------------------------------------"
   ]
  },
  {
   "cell_type": "markdown",
   "metadata": {
    "id": "NdO_H-4t-6mg"
   },
   "source": [
    "**8. Comparative Study**\n",
    "\n",
    "As observed with the results above, gen and test offers the most accurate result out of all the algorithms explored. Although it is the best, it is most of the time not worth trying as the runtime significantly increases with the number of parameters/variables. Greedy algorithm is not a very good option as it tends to get stuck on local maximums of the solution space. Simulated annealing and genetic algorithm offer accurate results with decent runtime, although our finding is most likely flawed, in theory these would be the better algorithms to explore.\n"
   ]
  },
  {
   "cell_type": "markdown",
   "metadata": {
    "id": "4Ypp7TpkAIUe"
   },
   "source": [
    "--------------------------------------------------------------------------\n"
   ]
  },
  {
   "cell_type": "markdown",
   "metadata": {
    "id": "8Ikmq-si_23Y"
   },
   "source": [
    "**9. Conclusion**\n",
    "\n",
    "In conclusion, this report delved into the exploration of four distinct algorithms to tackle the knapsack problem. Each algorithm, from the straightforward Greedy approach to the probabilistic Simulated Annealing method, offers unique experiences to the students with various thought processes necessary for each algorithms. While the Greedy algorithm is intuitive and fast, it may not always yield the optimal solution. On the other hand, Simulated Annealing, as it is more probabilistic, can provide a good approximation, especially for problem itself is complex. The other two algorithms further enriched our understanding and provided variety of solutions, strengthening our skills in problem solving. Through this assignment, we not only gained insights into the intricacies of the knapsack problem but also appreciated the importance of selecting the right algorithm based on the specific requirements and constraints of a given situation."
   ]
  },
  {
   "cell_type": "markdown",
   "metadata": {
    "id": "41s8gvCNABDy"
   },
   "source": [
    "--------------------------------------------------------------------------\n"
   ]
  },
  {
   "cell_type": "markdown",
   "metadata": {
    "id": "PtbOgI1q_9a0"
   },
   "source": [
    "**10 References**\n",
    "\n",
    "Make sure you provide references to ALL sources used (articles, code, algorithms)."
   ]
  },
  {
   "cell_type": "markdown",
   "metadata": {
    "id": "zF9cuDJqF75q"
   },
   "source": [
    "**Hint:** To share a link to your colab notebook, click on \"share\" on the top right. Then, under *General access* , change *Restricted* to \"Anyone with the link\"."
   ]
  }
 ],
 "metadata": {
  "colab": {
   "provenance": []
  },
  "kernelspec": {
   "display_name": "Python 3 (ipykernel)",
   "language": "python",
   "name": "python3"
  },
  "language_info": {
   "codemirror_mode": {
    "name": "ipython",
    "version": 3
   },
   "file_extension": ".py",
   "mimetype": "text/x-python",
   "name": "python",
   "nbconvert_exporter": "python",
   "pygments_lexer": "ipython3",
   "version": "3.11.4"
  }
 },
 "nbformat": 4,
 "nbformat_minor": 1
}
